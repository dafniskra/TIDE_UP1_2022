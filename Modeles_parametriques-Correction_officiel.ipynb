{
 "cells": [
  {
   "cell_type": "markdown",
   "metadata": {},
   "source": [
    "# Data science pour l'assurance non vie, Partie 1"
   ]
  },
  {
   "cell_type": "markdown",
   "metadata": {},
   "source": [
    "## Téléchargez les packages nécessaires à la réalisation du projet"
   ]
  },
  {
   "cell_type": "code",
   "execution_count": 1,
   "metadata": {},
   "outputs": [],
   "source": [
    "from functools import partial\n",
    "import numpy as np\n",
    "import matplotlib.pyplot as plt\n",
    "import pandas as pd\n",
    "import geopandas as geopd\n",
    "from sklearn.datasets import fetch_openml\n",
    "from sklearn.compose import ColumnTransformer\n",
    "from sklearn.model_selection import train_test_split\n",
    "from sklearn.pipeline import make_pipeline\n",
    "from sklearn.preprocessing import StandardScaler, KBinsDiscretizer, FunctionTransformer, OneHotEncoder\n",
    "from sklearn.metrics import mean_absolute_error, mean_squared_error, auc\n",
    "\n",
    "from patsy import dmatrices, dmatrix\n",
    "\n",
    "import statsmodels\n",
    "import statsmodels.api as sm\n",
    "import statsmodels.formula.api as smf"
   ]
  },
  {
   "cell_type": "markdown",
   "metadata": {},
   "source": [
    "## Importer les données"
   ]
  },
  {
   "cell_type": "code",
   "execution_count": 2,
   "metadata": {},
   "outputs": [
    {
     "name": "stderr",
     "output_type": "stream",
     "text": [
      "/home/krasniqi/anaconda3/lib/python3.8/site-packages/sklearn/datasets/_openml.py:849: UserWarning: Version 1 of dataset freMTPL2freq is inactive, meaning that issues have been found in the dataset. Try using a newer version from this URL: https://www.openml.org/data/v1/download/20649148/freMTPL2freq.arff\n",
      "  warn(\"Version {} of dataset {} is inactive, meaning that issues have \"\n",
      "/home/krasniqi/anaconda3/lib/python3.8/site-packages/sklearn/datasets/_openml.py:849: UserWarning: Version 1 of dataset freMTPL2sev is inactive, meaning that issues have been found in the dataset. Try using a newer version from this URL: https://www.openml.org/data/v1/download/20649149/freMTPL2sev.arff\n",
      "  warn(\"Version {} of dataset {} is inactive, meaning that issues have \"\n"
     ]
    }
   ],
   "source": [
    "def load_mtpl2(n_samples=100000):\n",
    "    \"\"\"Fetch the French Motor Third-Party Liability Claims dataset.\n",
    "\n",
    "    Parameters\n",
    "    ----------\n",
    "    n_samples: int, default=100000\n",
    "      number of samples to select (for faster run time). Full dataset has\n",
    "      678013 samples.\n",
    "    \"\"\"\n",
    "    # freMTPL2freq dataset from https://www.openml.org/d/41214\n",
    "    df_freq = fetch_openml(data_id=41214, as_frame=True)['data']\n",
    "    df_freq['IDpol'] = df_freq['IDpol'].astype(int)\n",
    "    df_freq.set_index('IDpol', inplace=True)\n",
    "\n",
    "    # freMTPL2sev dataset from https://www.openml.org/d/41215\n",
    "    df_sev = fetch_openml(data_id=41215, as_frame=True)['data']\n",
    "\n",
    "    # sum ClaimAmount over identical IDs\n",
    "    df_sev = df_sev.groupby('IDpol').sum()\n",
    "\n",
    "    df = df_freq.join(df_sev, how=\"left\")\n",
    "    df[\"ClaimAmount\"].fillna(0, inplace=True)\n",
    "\n",
    "    # unquote string fields\n",
    "    for column_name in df.columns[df.dtypes.values == object]:\n",
    "        df[column_name] = df[column_name].str.strip(\"'\")\n",
    "    return df.iloc[:n_samples]\n",
    "  \n",
    "data = load_mtpl2(n_samples=677990)"
   ]
  },
  {
   "cell_type": "markdown",
   "metadata": {},
   "source": [
    "## 4.3. Analyser les données"
   ]
  },
  {
   "cell_type": "code",
   "execution_count": 3,
   "metadata": {},
   "outputs": [],
   "source": [
    "# Analyser la base de données (nombre de ligne, les valeurs manquantes, ...)\n",
    "\n"
   ]
  },
  {
   "cell_type": "code",
   "execution_count": 4,
   "metadata": {},
   "outputs": [],
   "source": [
    "# Analyser la variable cible, indiquer la structure de cette variable\n",
    "\n"
   ]
  },
  {
   "cell_type": "code",
   "execution_count": 5,
   "metadata": {},
   "outputs": [],
   "source": [
    "# Matrice de corrélation pour les variables quantitatives\n",
    "\n"
   ]
  },
  {
   "cell_type": "markdown",
   "metadata": {},
   "source": [
    "## Quelques modifications de la base de données"
   ]
  },
  {
   "cell_type": "code",
   "execution_count": 6,
   "metadata": {},
   "outputs": [],
   "source": [
    "# Plafoné les sinistres à 4\n",
    "data[\"ClaimNb\"] = data[\"ClaimNb\"].clip(upper=4)\n",
    "\n",
    "#Plafonnement l'exposition des sinistres à 1\n",
    "data[\"Exposure\"] = data[\"Exposure\"].clip(upper=1)\n",
    "\n",
    "#Plafonnement du Bonus-Malus à 150\n",
    "data[\"BonusMalus_capped\"]= np.clip(data.BonusMalus, None, 150)\n",
    "\n",
    "#Plafonnement de l'âge du vehicule à 20\n",
    "data[\"VehAge_capped\"]= np.clip(data.VehAge, None, 35)\n",
    "\n",
    "#Plafonnement de l'âge du conducteur à 85\n",
    "data[\"DrivAge_capped\"]= np.clip(data.DrivAge, None, 85)\n",
    "\n",
    "#Mettre la densité en log\n",
    "data['LogDensity'] = np.log(data['Density'])"
   ]
  },
  {
   "cell_type": "markdown",
   "metadata": {},
   "source": [
    "## Créez des classes pour les variables continues afin d'aider le modèle linéaire. "
   ]
  },
  {
   "cell_type": "markdown",
   "metadata": {},
   "source": [
    "### Nous allons analyser l'âge du conducteur "
   ]
  },
  {
   "cell_type": "code",
   "execution_count": 7,
   "metadata": {},
   "outputs": [
    {
     "name": "stderr",
     "output_type": "stream",
     "text": [
      "No handles with labels found to put in legend.\n"
     ]
    },
    {
     "data": {
      "image/png": "[encoded data removed]",
      "text/plain": [
       "<Figure size 432x288 with 1 Axes>"
      ]
     },
     "metadata": {
      "needs_background": "light"
     },
     "output_type": "display_data"
    }
   ],
   "source": [
    "data_plot = data.groupby(data.DrivAge_capped).mean()\n",
    "data_plot[\"freq_2\"]=data_plot.ClaimNb/data_plot.Exposure\n",
    "\n",
    "# Plot the splines and error bands\n",
    "plt.scatter(data_plot.index, data_plot[\"freq_2\"] , facecolor='None', edgecolor='b', alpha=0.6)\n",
    "plt.legend()\n",
    "plt.xlim(17,87)\n",
    "plt.ylim(0,0.4)\n",
    "plt.xlabel('DrivAge_capped')\n",
    "plt.ylabel('freq')\n",
    "plt.show()"
   ]
  },
  {
   "cell_type": "code",
   "execution_count": 8,
   "metadata": {},
   "outputs": [],
   "source": [
    "'''Pour l'âge du conducteur, on crée des classes car la variable n'est pas linéaire. \n",
    "Voici les class: 18-25\n",
    "                 26-35\n",
    "                 36-50\n",
    "                 51-70\n",
    "                 71-80\n",
    "                 80 et plus''' \n",
    "\n",
    "def drive_age_class(data):\n",
    "    \n",
    "    drive_age = np.array(data[\"DrivAge_capped\"])\n",
    "\n",
    "    new_var=[]\n",
    "    for i in range(len(data)):\n",
    "        \n",
    "        if drive_age[i]<=25:\n",
    "            new_var.append('DrivAge_0')\n",
    "        elif drive_age[i]<=35 and drive_age[i]>25:\n",
    "            new_var.append('DrivAge_1')\n",
    "        elif drive_age[i]<=50 and drive_age[i]>35:\n",
    "            new_var.append('DrivAge_2')\n",
    "        elif drive_age[i]<=70 and drive_age[i]>50:\n",
    "            new_var.append('DrivAge_3')\n",
    "        elif drive_age[i]<=80 and drive_age[i]>70:\n",
    "            new_var.append('DrivAge_4')\n",
    "        else :\n",
    "            new_var.append(5)\n",
    "    \n",
    "    data[\"DrivAge_class\"]=new_var\n",
    "    \n",
    "    return data\n",
    "\n",
    "\n",
    "data = drive_age_class(data)"
   ]
  },
  {
   "cell_type": "code",
   "execution_count": null,
   "metadata": {},
   "outputs": [],
   "source": [
    "# Analyser la distribution de la variable nouvellement créée: \"DrivAge_class\"\n",
    "\n"
   ]
  },
  {
   "cell_type": "markdown",
   "metadata": {},
   "source": [
    "### Nous allons analyser l'âge de la voiture"
   ]
  },
  {
   "cell_type": "code",
   "execution_count": 9,
   "metadata": {},
   "outputs": [
    {
     "name": "stderr",
     "output_type": "stream",
     "text": [
      "No handles with labels found to put in legend.\n"
     ]
    },
    {
     "data": {
      "image/png": "[encoded data removed]",
      "text/plain": [
       "<Figure size 432x288 with 1 Axes>"
      ]
     },
     "metadata": {
      "needs_background": "light"
     },
     "output_type": "display_data"
    }
   ],
   "source": [
    "data_plot = data.groupby(data.VehAge).mean()\n",
    "data_plot[\"freq_2\"]=data_plot.ClaimNb/data_plot.Exposure\n",
    "\n",
    "# Plot the splines and error bands\n",
    "plt.scatter(data_plot.index, data_plot[\"freq_2\"] , facecolor='None', edgecolor='b', alpha=0.6)\n",
    "plt.legend()\n",
    "plt.xlim(-2,87)\n",
    "plt.ylim(0,0.4)\n",
    "plt.xlabel('VehAge')\n",
    "plt.ylabel('freq')\n",
    "plt.show()"
   ]
  },
  {
   "cell_type": "code",
   "execution_count": 10,
   "metadata": {},
   "outputs": [],
   "source": [
    "'''Pour l'âge de la voiture, on crée des classes car la variable n'est pas linéaire. \n",
    "Voici les class: ????\n",
    "'''\n",
    "\n",
    "def veh_age_class(data):\n",
    "    \n",
    "    VehAge = np.array(data[\"VehAge\"])\n",
    "\n",
    "    new_var=[]\n",
    "    \n",
    "    for i in range(len(data)):\n",
    "        if VehAge[i]==0:\n",
    "            new_var.append('VehAge_0')\n",
    "        elif VehAge[i]<=5 and VehAge[i]>0:\n",
    "            new_var.append('VehAge_1')\n",
    "        elif VehAge[i]<=15 and VehAge[i]>5:\n",
    "            new_var.append('VehAge_2')\n",
    "        else :\n",
    "            new_var.append('VehAge_3')\n",
    "    \n",
    "    data[\"VehAge_class\"]=new_var\n",
    "    \n",
    "    return data\n",
    "\n",
    "data = veh_age_class(data)"
   ]
  },
  {
   "cell_type": "code",
   "execution_count": 11,
   "metadata": {},
   "outputs": [],
   "source": [
    "# Analyser la distribution de la variable nouvellement créée: \"VehAge_class\"\n"
   ]
  },
  {
   "cell_type": "markdown",
   "metadata": {},
   "source": [
    "## Faire des regroupements car il y a trop de modalités dans certaines variables. "
   ]
  },
  {
   "cell_type": "markdown",
   "metadata": {},
   "source": [
    "### Nous allons nous intéresser aux marques des voitures. "
   ]
  },
  {
   "cell_type": "code",
   "execution_count": 12,
   "metadata": {},
   "outputs": [
    {
     "name": "stderr",
     "output_type": "stream",
     "text": [
      "No handles with labels found to put in legend.\n"
     ]
    },
    {
     "data": {
      "image/png": "[encoded data removed]",
      "text/plain": [
       "<Figure size 432x288 with 1 Axes>"
      ]
     },
     "metadata": {
      "needs_background": "light"
     },
     "output_type": "display_data"
    }
   ],
   "source": [
    "data_plot = data.groupby(data.VehBrand).mean()\n",
    "data_plot[\"freq_2\"]=data_plot.ClaimNb/data_plot.Exposure\n",
    "\n",
    "plt.plot(data_plot.index, data_plot[\"freq_2\"], '.')\n",
    "\n",
    "plt.legend()\n",
    "plt.ylim(0,0.2)\n",
    "plt.xlabel('VehBrand')\n",
    "plt.ylabel('freq')\n",
    "plt.show()"
   ]
  },
  {
   "cell_type": "code",
   "execution_count": 13,
   "metadata": {},
   "outputs": [],
   "source": [
    "# Pour marque de la voiture\n",
    "def VehBrand_class(data):\n",
    "\n",
    "    Brand = np.array(data[\"VehBrand\"])\n",
    "\n",
    "    VehBrand_classe = []\n",
    "    for i in range(0, len(data)):\n",
    "        \n",
    "        if Brand[i] in ['B2', 'B4', 'B6', 'B10', 'B1']:\n",
    "            VehBrand_classe.append('VehBrand_1')\n",
    "\n",
    "        elif Brand[i] in ['B3', 'B11', 'B5', 'B13', 'B14']:\n",
    "            VehBrand_classe.append('VehBrand_2')\n",
    "\n",
    "        else:\n",
    "            VehBrand_classe.append('VehBrand_3')\n",
    "\n",
    "    data[\"VehBrand_class\"]=VehBrand_classe\n",
    "        \n",
    "    return data\n",
    "\n",
    "data = VehBrand_class(data)"
   ]
  },
  {
   "cell_type": "code",
   "execution_count": 14,
   "metadata": {},
   "outputs": [
    {
     "name": "stderr",
     "output_type": "stream",
     "text": [
      "No handles with labels found to put in legend.\n"
     ]
    },
    {
     "data": {
      "image/png": "[encoded data removed]",
      "text/plain": [
       "<Figure size 432x288 with 1 Axes>"
      ]
     },
     "metadata": {
      "needs_background": "light"
     },
     "output_type": "display_data"
    }
   ],
   "source": [
    "data_plot = data.groupby(data.Area).mean()\n",
    "data_plot[\"freq_2\"]=data_plot.ClaimNb/data_plot.Exposure\n",
    "\n",
    "plt.plot(data_plot.index, data_plot[\"freq_2\"], '.')\n",
    "\n",
    "plt.legend()\n",
    "plt.ylim(0,0.2)\n",
    "plt.xlabel('Area')\n",
    "plt.ylabel('freq')\n",
    "plt.show()"
   ]
  },
  {
   "cell_type": "code",
   "execution_count": 15,
   "metadata": {},
   "outputs": [],
   "source": [
    "#Pour la zone d'habitation\n",
    "data['Area'] = pd.to_numeric(data['Area'].map({\"A\": 1, \"B\": 2,\"C\": 3,\"D\": 4,\"E\": 5,\"F\": 6,}))"
   ]
  },
  {
   "cell_type": "code",
   "execution_count": 45,
   "metadata": {},
   "outputs": [],
   "source": [
    "#Pour la region d'habitation\n",
    "gdf_france = geopd.read_file(\"regions-20140306-100m-shp/regions-20140306-100m.shp\")\n",
    "gdf_france = gdf_france[~gdf_france[\"nom\"].isin([\"Guadeloupe\", \"Guyane\", \"La Réunion\", \"Martinique\", \"Mayotte\"])]\n",
    "gdf_france['Region'] = \"R\" + gdf_france['code_insee']"
   ]
  },
  {
   "cell_type": "code",
   "execution_count": 50,
   "metadata": {},
   "outputs": [
    {
     "name": "stderr",
     "output_type": "stream",
     "text": [
      "<ipython-input-50-91568633918f>:3: FutureWarning: Indexing with multiple keys (implicitly converted to a tuple of keys) will be deprecated, use a list instead.\n",
      "  tmp = (data.groupby(['Region'])['Exposure', 'ClaimNb']\n",
      "<ipython-input-50-91568633918f>:12: MatplotlibDeprecationWarning: The 's' parameter of annotate() has been renamed 'text' since Matplotlib 3.3; support for the old name will be dropped two minor releases later.\n",
      "  tmp.apply(lambda x: axes[0].annotate(s=x['Region'], xy=x.geometry.centroid.coords[0], ha='center'), axis=1);\n",
      "<ipython-input-50-91568633918f>:13: MatplotlibDeprecationWarning: The 's' parameter of annotate() has been renamed 'text' since Matplotlib 3.3; support for the old name will be dropped two minor releases later.\n",
      "  tmp.apply(lambda x: axes[1].annotate(s=x['Region'], xy=x.geometry.centroid.coords[0], ha='center'), axis=1);\n"
     ]
    },
    {
     "data": {
      "text/plain": [
       "[Text(0, 40.0, ''),\n",
       " Text(0, 42.0, ''),\n",
       " Text(0, 44.0, ''),\n",
       " Text(0, 46.0, ''),\n",
       " Text(0, 48.0, ''),\n",
       " Text(0, 50.0, ''),\n",
       " Text(0, 52.0, '')]"
      ]
     },
     "execution_count": 50,
     "metadata": {},
     "output_type": "execute_result"
    },
    {
     "data": {
      "image/png": "[encoded data removed]",
      "text/plain": [
       "<Figure size 1296x504 with 4 Axes>"
      ]
     },
     "metadata": {
      "needs_background": "light"
     },
     "output_type": "display_data"
    }
   ],
   "source": [
    "fig, axes = plt.subplots(nrows=1, ncols=2, figsize=(9*2, 7))\n",
    "#fig.subplots_adjust(wspace=0.5)\n",
    "tmp = (data.groupby(['Region'])['Exposure', 'ClaimNb']\n",
    "          .sum()\n",
    "          .assign(frequency = lambda x: x['ClaimNb']/x['Exposure'])\n",
    "         )\n",
    "tmp = gdf_france.merge(tmp, on='Region', how='right')\n",
    "tmp.plot(column='Exposure', legend=True, ax=axes[0], cmap='Greens')\n",
    "tmp.plot(column='frequency', legend=True, ax=axes[1], cmap='Greens')\n",
    "\n",
    "tmp.apply(lambda x: axes[0].annotate(s=x['Region'], xy=x.geometry.centroid.coords[0], ha='center'), axis=1);\n",
    "tmp.apply(lambda x: axes[1].annotate(s=x['Region'], xy=x.geometry.centroid.coords[0], ha='center'), axis=1);\n",
    "axes[0].set_title('Exposition par Region');\n",
    "axes[1].set_title(\"Fréquence per Region\");\n",
    "axes[0].set_xticklabels([])\n",
    "axes[0].set_yticklabels([])\n",
    "axes[1].set_xticklabels([])\n",
    "axes[1].set_yticklabels([])"
   ]
  },
  {
   "cell_type": "code",
   "execution_count": 16,
   "metadata": {},
   "outputs": [],
   "source": [
    "def Region_class(data):\n",
    "\n",
    "    Region = np.array(data[\"Region\"])\n",
    "\n",
    "    Region_classe = []\n",
    "    for i in range(0, len(data)):\n",
    "        \n",
    "        if Region[i] in ['R21', 'R94', 'R11', 'R22', 'R74']:\n",
    "            Region_classe.append('C1')\n",
    "\n",
    "        elif Region[i] in ['R91', 'R82', 'R42']:\n",
    "            Region_classe.append('C2')\n",
    "\n",
    "        elif Region[i] in ['R93', 'R53']:\n",
    "            Region_classe.append('C3')\n",
    "\n",
    "        elif Region[i] in ['R26', 'R25', 'R52', 'R31', 'R54', 'R73', \n",
    "                                'R23', 'R72', 'R83', 'R41', 'R43', 'R24']:\n",
    "            Region_classe.append('C4')\n",
    "\n",
    "    data[\"Region_class\"]=Region_classe\n",
    "        \n",
    "    return data\n",
    "\n",
    "data = Region_class(data)"
   ]
  },
  {
   "cell_type": "markdown",
   "metadata": {},
   "source": [
    "### Nous allons séparer notre base de données en une base de données d'entrainement et une base de données de test avec la fonction train_test_split  \n",
    "\n",
    "le test_size=0.2 et random_state=42"
   ]
  },
  {
   "cell_type": "code",
   "execution_count": 17,
   "metadata": {},
   "outputs": [],
   "source": [
    "X_train, X_test = train_test_split(data, test_size=0.2, random_state=42)"
   ]
  },
  {
   "cell_type": "markdown",
   "metadata": {},
   "source": [
    "### Nous allons crée deux fonction pour juger de la qualité de nos modèles\n",
    "\n",
    "* $$GLM Poisson \\rightarrow \\mathcal{D} = 2* \\frac{1}{n}\\sum_{i=1}^{n}\\left(y_i\\log\\left(\\frac{y_i}{\\mu_i} \\right)  -(y_i-\\mu_i) \\right)$$\n",
    "\n",
    "\n",
    "* $$\\sum_{i \\in training} t_i y_i = \\sum_{i \\in training} t_i \\hat{\\mu}_i$$"
   ]
  },
  {
   "cell_type": "code",
   "execution_count": 18,
   "metadata": {},
   "outputs": [],
   "source": [
    "# Function Deviance de Poisson\n",
    "def PD_function(pred, obs):\n",
    "    PD = 200*( sum(pred) - sum(obs) + sum( np.log( (obs/pred)**(obs) ) ) )\n",
    "    return PD/len(pred)\n",
    "\n",
    "# Function PD2: Print Poisson Deviance learn/test\n",
    "def PD2_function(txt, l_c, l_x, t_c, t_x):\n",
    "    print(\"{:s}, Train/test: {:.4f} / {:.4f}\".format(txt, PD_function(l_c, l_x), PD_function(t_c, t_x)))\n",
    "    \n",
    "    \n",
    "def diff_function(pred, obs):\n",
    "    return np.round(sum(pred)-sum(obs), 4)"
   ]
  },
  {
   "cell_type": "code",
   "execution_count": 19,
   "metadata": {},
   "outputs": [],
   "source": [
    "#Création d'un dataframe pour enregistrer les résultats du test, du train et pour l'AIC. \n",
    "\n",
    "data_results_train = pd.DataFrame()\n",
    "data_results_test = pd.DataFrame()\n",
    "data_aic = dict()"
   ]
  },
  {
   "cell_type": "markdown",
   "metadata": {},
   "source": [
    "# Modélisation\n",
    "\n",
    "## Modèle homogène\n",
    "\n",
    "Notre premier modèle est le plus simple, c'est-à-dire que nous allons donner la même fréquence d'accident à tout le monde. Pour ce faire, nous allons régresser uniquement sur l'intercept. "
   ]
  },
  {
   "cell_type": "code",
   "execution_count": 20,
   "metadata": {},
   "outputs": [
    {
     "name": "stdout",
     "output_type": "stream",
     "text": [
      "                 Generalized Linear Model Regression Results                  \n",
      "==============================================================================\n",
      "Dep. Variable:                ClaimNb   No. Observations:               542392\n",
      "Model:                            GLM   Df Residuals:                   542391\n",
      "Model Family:                 Poisson   Df Model:                            0\n",
      "Link Function:                    log   Scale:                          1.0000\n",
      "Method:                          IRLS   Log-Likelihood:            -1.1741e+05\n",
      "Date:                Wed, 05 Oct 2022   Deviance:                   1.7932e+05\n",
      "Time:                        22:03:27   Pearson chi2:                 1.53e+06\n",
      "No. Iterations:                     7                                         \n",
      "Covariance Type:            nonrobust                                         \n",
      "==============================================================================\n",
      "                 coef    std err          z      P>|z|      [0.025      0.975]\n",
      "------------------------------------------------------------------------------\n",
      "Intercept     -2.2959      0.006   -390.091      0.000      -2.307      -2.284\n",
      "==============================================================================\n"
     ]
    }
   ],
   "source": [
    "GLM_poisson_homogene = smf.glm(\"ClaimNb ~ 1\",\n",
    "                               data=X_train, \n",
    "                               exposure=np.asarray(X_train['Exposure']),\n",
    "                               family=sm.families.Poisson(sm.genmod.families.links.log())\n",
    "                              ).fit()\n",
    "print(GLM_poisson_homogene.summary())"
   ]
  },
  {
   "cell_type": "code",
   "execution_count": 21,
   "metadata": {},
   "outputs": [
    {
     "name": "stdout",
     "output_type": "stream",
     "text": [
      "La fréquence des accidents est:  0.10067246532855481\n"
     ]
    }
   ],
   "source": [
    "print(\"La fréquence des accidents est: \", np.exp(GLM_poisson_homogene.params[0]))"
   ]
  },
  {
   "cell_type": "markdown",
   "metadata": {},
   "source": [
    "### Les résultats doivent être enregistrés dans les dataframes."
   ]
  },
  {
   "cell_type": "code",
   "execution_count": 22,
   "metadata": {},
   "outputs": [
    {
     "name": "stdout",
     "output_type": "stream",
     "text": [
      "La déviance de Poisson pour le Modele Homogène est , Train/test: 33.0603 / 32.9031\n",
      "\n",
      "\n",
      "L'aic est de: 234818.6997\n",
      "\n",
      "\n",
      "la différence test 7207.98288068923 7187.0\n",
      "la différence train 28868.99999996791 28869.0\n"
     ]
    }
   ],
   "source": [
    "data_results_test['Homogene'] = GLM_poisson_homogene.predict(X_test[['Exposure']])* X_test[\"Exposure\"]\n",
    "data_results_train['Homogene'] = GLM_poisson_homogene.predict(X_train[['Exposure']])* X_train[\"Exposure\"]\n",
    "\n",
    "PD2_function(\"La déviance de Poisson pour le Modele Homogène est \", \n",
    "             data_results_train['Homogene'], X_train[\"ClaimNb\"], \n",
    "             data_results_test['Homogene'], X_test[\"ClaimNb\"])\n",
    "\n",
    "print('\\n')\n",
    "print(\"{:s}: {:.4f}\".format(\"L'aic est de\", GLM_poisson_homogene.aic)) \n",
    "data_aic['Homogene'] = GLM_poisson_homogene.aic\n",
    "\n",
    "print('\\n')\n",
    "print('la différence test', sum(data_results_test['Homogene']), sum(X_test[\"ClaimNb\"]))\n",
    "print('la différence train', sum(data_results_train['Homogene']), sum(X_train[\"ClaimNb\"]))"
   ]
  },
  {
   "cell_type": "markdown",
   "metadata": {},
   "source": [
    "# Modèle avec plusieurs variables de régression \n",
    "\n",
    "Pour réaliser cette exercice, il faut utiliser dmatrices. Voici un exemple:\n",
    "\n",
    "formule = \"ClaimNb ~ C(DrivAge_class)\"\n",
    "\n",
    "response, predictors_train = dmatrices(formule, X_train, return_type='dataframe')\n",
    "\n",
    "Glm_Divers = sm.GLM(response_train, predictors_train,\n",
    "              exposure=np.asarray(X_train.Exposure),\n",
    "              family=sm.families.Poisson(sm.genmod.families.links.log())).fit()\n",
    "\n",
    "print(Glm_Divers.summary())\n",
    "\n",
    "\n",
    "S'il y a une variable catégorielle, vous devez ajouter un C et mettre la variable entre parenthèses. La fonction dmatrices va créer automatiquement la base de données en effectuant directement l'auto-codage pour les variables catégorielles. "
   ]
  },
  {
   "cell_type": "code",
   "execution_count": 25,
   "metadata": {},
   "outputs": [
    {
     "name": "stdout",
     "output_type": "stream",
     "text": [
      "                 Generalized Linear Model Regression Results                  \n",
      "==============================================================================\n",
      "Dep. Variable:                ClaimNb   No. Observations:               542392\n",
      "Model:                            GLM   Df Residuals:                   542376\n",
      "Model Family:                 Poisson   Df Model:                           15\n",
      "Link Function:                    log   Scale:                          1.0000\n",
      "Method:                          IRLS   Log-Likelihood:            -1.1465e+05\n",
      "Date:                Wed, 05 Oct 2022   Deviance:                   1.7380e+05\n",
      "Time:                        22:11:26   Pearson chi2:                 1.24e+06\n",
      "No. Iterations:                     7                                         \n",
      "Covariance Type:            nonrobust                                         \n",
      "=================================================================================================\n",
      "                                    coef    std err          z      P>|z|      [0.025      0.975]\n",
      "-------------------------------------------------------------------------------------------------\n",
      "Intercept                        -1.5733      0.075    -21.042      0.000      -1.720      -1.427\n",
      "C(Area)[T.2]                      0.0043      0.028      0.151      0.880      -0.051       0.060\n",
      "C(Area)[T.3]                     -0.0212      0.037     -0.578      0.563      -0.093       0.051\n",
      "C(Area)[T.4]                      0.0097      0.056      0.174      0.862      -0.099       0.119\n",
      "C(Area)[T.5]                      0.0176      0.074      0.238      0.812      -0.128       0.163\n",
      "C(Area)[T.6]                     -0.0242      0.102     -0.238      0.812      -0.223       0.175\n",
      "C(DrivAge_class)[T.DrivAge_0]     0.5462      0.057      9.537      0.000       0.434       0.658\n",
      "C(DrivAge_class)[T.DrivAge_1]    -0.0636      0.055     -1.156      0.248      -0.171       0.044\n",
      "C(DrivAge_class)[T.DrivAge_2]    -0.0198      0.054     -0.365      0.715      -0.126       0.086\n",
      "C(DrivAge_class)[T.DrivAge_3]    -0.0755      0.054     -1.388      0.165      -0.182       0.031\n",
      "C(DrivAge_class)[T.DrivAge_4]    -0.0063      0.058     -0.108      0.914      -0.121       0.108\n",
      "C(VehAge_class)[T.VehAge_1]      -1.2074      0.018    -65.681      0.000      -1.243      -1.171\n",
      "C(VehAge_class)[T.VehAge_2]      -1.2039      0.018    -67.528      0.000      -1.239      -1.169\n",
      "C(VehAge_class)[T.VehAge_3]      -1.5393      0.030    -51.784      0.000      -1.598      -1.481\n",
      "VehPower                          0.0067      0.003      2.311      0.021       0.001       0.012\n",
      "LogDensity                        0.0615      0.014      4.403      0.000       0.034       0.089\n",
      "=================================================================================================\n"
     ]
    }
   ],
   "source": [
    "formule = \"ClaimNb ~ C(Area) + VehPower + LogDensity + C(DrivAge_class) + C(VehAge_class)\"\n",
    "\n",
    "response_train, predictors_train = dmatrices(formule, X_train, return_type='dataframe')\n",
    "response_test, predictors_test = dmatrices(formule, X_test, return_type='dataframe')\n",
    "\n",
    "Glm_Divers = sm.GLM(response_train, predictors_train,\n",
    "              exposure=np.asarray(X_train.Exposure),\n",
    "              family=sm.families.Poisson(sm.genmod.families.links.log())).fit()\n",
    "\n",
    "print(Glm_Divers.summary())"
   ]
  },
  {
   "cell_type": "markdown",
   "metadata": {},
   "source": [
    "### Les résultats doivent être enregistrés dans les dataframes."
   ]
  },
  {
   "cell_type": "code",
   "execution_count": 26,
   "metadata": {},
   "outputs": [
    {
     "name": "stdout",
     "output_type": "stream",
     "text": [
      "La déviance de Poisson pour le Modele est , Train/test: 32.0431 / 32.0145\n",
      "L'aic est de: 229331.6730\n",
      "\n",
      "\n",
      "la différence test 7183.480736516782 7187.0\n",
      "la différence train 28868.99999999959 28869.0\n"
     ]
    }
   ],
   "source": [
    "data_results_test['divers'] = Glm_Divers.predict(predictors_test)* X_test[\"Exposure\"]\n",
    "data_results_train['divers'] = Glm_Divers.predict(predictors_train)* X_train[\"Exposure\"]\n",
    "\n",
    "PD2_function(\"La déviance de Poisson pour le Modele est \", \n",
    "             data_results_train['divers'], X_train[\"ClaimNb\"], \n",
    "             data_results_test['divers'], X_test[\"ClaimNb\"])\n",
    "\n",
    "print(\"{:s}: {:.4f}\".format(\"L'aic est de\", Glm_Divers.aic)) \n",
    "data_aic['divers'] = Glm_Divers.aic\n",
    "\n",
    "print('\\n')\n",
    "print('la différence test', sum(data_results_test['divers']), sum(X_test[\"ClaimNb\"]))\n",
    "print('la différence train', sum(data_results_train['divers']), sum(X_train[\"ClaimNb\"]))"
   ]
  },
  {
   "cell_type": "markdown",
   "metadata": {},
   "source": [
    "### Qu'est-ce qui se passe avec la déviance de Poisson et l'AIC ? "
   ]
  },
  {
   "cell_type": "markdown",
   "metadata": {},
   "source": [
    "Réponse:"
   ]
  },
  {
   "cell_type": "markdown",
   "metadata": {},
   "source": [
    "## 5.3. Modèle avec plusieurs variables de régression et une étape de sélection des variables\n",
    "\n",
    "Comme il est extrêmement difficile de calibrer le modèle à la main, nous procéderons par étapes. Nous coderons une méthode par étapes pour sélectionner les variables les plus pertinentes. "
   ]
  },
  {
   "cell_type": "code",
   "execution_count": 23,
   "metadata": {},
   "outputs": [],
   "source": [
    "def stepwise_reg(data_train, candidat):\n",
    "    \n",
    "    save_model = []\n",
    "\n",
    "    GLM_select = smf.glm(\"ClaimNb ~ 1\",\n",
    "                         data=data_train,\n",
    "                         exposure=np.asarray(data_train['Exposure']),\n",
    "                         family=sm.families.Poisson(sm.genmod.families.links.log())).fit()\n",
    "\n",
    "    score_aic = GLM_select.aic\n",
    "    iteration=0\n",
    "\n",
    "    while len(candidat)>0:\n",
    "\n",
    "        #stacker les resultats\n",
    "        save_result = pd.DataFrame(columns=['candidat','aic'])\n",
    "        print(\"l'aic de référence est :\", score_aic)\n",
    "        #print('les variables candidates pour le modèle sont :', candidat)\n",
    "\n",
    "        for c in candidat:\n",
    "\n",
    "            iteration = iteration+1\n",
    "\n",
    "            model = ' + '.join(save_model + [c])\n",
    "            \n",
    "            formula = \"\"\"ClaimNb ~ \"\"\" + model\n",
    "\n",
    "            response, predictors = dmatrices(formula, data_train, return_type='dataframe')\n",
    "\n",
    "            GLM_select = sm.GLM(response, predictors, exposure=np.asarray(data_train['Exposure']),\n",
    "                                family=sm.families.Poisson(sm.genmod.families.links.log())).fit()\n",
    "\n",
    "            print(\"iter: \"+str(iteration)+\", candidat: \"+str(c)+\", aic: \"+str(GLM_select.aic))\n",
    "\n",
    "            save_result = save_result.append({'candidat':c, 'aic':GLM_select.aic}, ignore_index=True)\n",
    "\n",
    "        index = save_result['aic'].idxmin()\n",
    "\n",
    "        if score_aic<save_result['aic'][index]:\n",
    "\n",
    "            print('breakkkkkkkkk')\n",
    "\n",
    "            break\n",
    "\n",
    "        else:\n",
    "            score_aic=save_result['aic'][index]\n",
    "\n",
    "        save_model.append(save_result['candidat'][index])\n",
    "        print('\\n')\n",
    "        print('la meilleure variable est: '+ str(save_result['candidat'][index]))\n",
    "        print('avec un aic de: ' + str(save_result['aic'][index]))\n",
    "        print('\\n')\n",
    "        candidat.remove(save_result['candidat'][index])                  \n",
    "\n",
    "    print(\"le meilleur modele est :\", save_model)\n",
    "    \n",
    "    return save_model"
   ]
  },
  {
   "cell_type": "code",
   "execution_count": 27,
   "metadata": {},
   "outputs": [
    {
     "name": "stdout",
     "output_type": "stream",
     "text": [
      "l'aic de référence est : 234818.699737965\n",
      "iter: 1, candidat: C(Area), aic: 234186.58932588075\n",
      "iter: 2, candidat: VehPower, aic: 234813.33953672132\n",
      "iter: 3, candidat: LogDensity, aic: 234160.3492894956\n",
      "iter: 4, candidat: C(DrivAge_class), aic: 234226.13978488048\n",
      "iter: 5, candidat: C(VehAge_class), aic: 230374.41010617875\n",
      "iter: 6, candidat: C(VehBrand_class), aic: 233992.3424474238\n",
      "iter: 7, candidat: Area, aic: 234192.54578898908\n",
      "iter: 8, candidat: C(Region_class), aic: 234394.33239946864\n",
      "iter: 9, candidat: BonusMalus_capped, aic: 231341.60679374213\n",
      "\n",
      "\n",
      "la meilleure variable est: C(VehAge_class)\n",
      "avec un aic de: 230374.41010617875\n",
      "\n",
      "\n",
      "l'aic de référence est : 230374.41010617875\n",
      "iter: 10, candidat: C(Area), aic: 229969.50230739414\n",
      "iter: 11, candidat: VehPower, aic: 230375.95170664403\n",
      "iter: 12, candidat: LogDensity, aic: 229949.82087873266\n",
      "iter: 13, candidat: C(DrivAge_class), aic: 229743.03090118314\n",
      "iter: 14, candidat: C(VehBrand_class), aic: 230255.61897638507\n",
      "iter: 15, candidat: Area, aic: 229973.83164166586\n",
      "iter: 16, candidat: C(Region_class), aic: 230206.2057621364\n",
      "iter: 17, candidat: BonusMalus_capped, aic: 226851.23600975395\n",
      "\n",
      "\n",
      "la meilleure variable est: BonusMalus_capped\n",
      "avec un aic de: 226851.23600975395\n",
      "\n",
      "\n",
      "l'aic de référence est : 226851.23600975395\n",
      "iter: 18, candidat: C(Area), aic: 226705.65121979787\n",
      "iter: 19, candidat: VehPower, aic: 226827.42310259768\n",
      "iter: 20, candidat: LogDensity, aic: 226694.4846227448\n",
      "iter: 21, candidat: C(DrivAge_class), aic: 226383.99214710947\n",
      "iter: 22, candidat: C(VehBrand_class), aic: 226793.64173261207\n",
      "iter: 23, candidat: Area, aic: 226701.83905034006\n",
      "iter: 24, candidat: C(Region_class), aic: 226782.50594296242\n",
      "\n",
      "\n",
      "la meilleure variable est: C(DrivAge_class)\n",
      "avec un aic de: 226383.99214710947\n",
      "\n",
      "\n",
      "l'aic de référence est : 226383.99214710947\n",
      "iter: 25, candidat: C(Area), aic: 226245.66151329476\n",
      "iter: 26, candidat: VehPower, aic: 226365.63776469594\n",
      "iter: 27, candidat: LogDensity, aic: 226238.40024809606\n",
      "iter: 28, candidat: C(VehBrand_class), aic: 226333.95086901513\n",
      "iter: 29, candidat: Area, aic: 226243.50330007428\n",
      "iter: 30, candidat: C(Region_class), aic: 226323.4118396947\n",
      "\n",
      "\n",
      "la meilleure variable est: LogDensity\n",
      "avec un aic de: 226238.40024809606\n",
      "\n",
      "\n",
      "l'aic de référence est : 226238.40024809606\n",
      "iter: 31, candidat: C(Area), aic: 226241.90851838829\n",
      "iter: 32, candidat: VehPower, aic: 226221.6739989878\n",
      "iter: 33, candidat: C(VehBrand_class), aic: 226204.91988245584\n",
      "iter: 34, candidat: Area, aic: 226240.0088980689\n",
      "iter: 35, candidat: C(Region_class), aic: 226226.22794308595\n",
      "\n",
      "\n",
      "la meilleure variable est: C(VehBrand_class)\n",
      "avec un aic de: 226204.91988245584\n",
      "\n",
      "\n",
      "l'aic de référence est : 226204.91988245584\n",
      "iter: 36, candidat: C(Area), aic: 226207.08773228075\n",
      "iter: 37, candidat: VehPower, aic: 226194.14291101063\n",
      "iter: 38, candidat: Area, aic: 226206.5883255304\n",
      "iter: 39, candidat: C(Region_class), aic: 226195.6923090351\n",
      "\n",
      "\n",
      "la meilleure variable est: VehPower\n",
      "avec un aic de: 226194.14291101063\n",
      "\n",
      "\n",
      "l'aic de référence est : 226194.14291101063\n",
      "iter: 40, candidat: C(Area), aic: 226195.39028829068\n",
      "iter: 41, candidat: Area, aic: 226195.76201848008\n",
      "iter: 42, candidat: C(Region_class), aic: 226185.56335111434\n",
      "\n",
      "\n",
      "la meilleure variable est: C(Region_class)\n",
      "avec un aic de: 226185.56335111434\n",
      "\n",
      "\n",
      "l'aic de référence est : 226185.56335111434\n",
      "iter: 43, candidat: C(Area), aic: 226187.85977798232\n",
      "iter: 44, candidat: Area, aic: 226187.34292792756\n",
      "breakkkkkkkkk\n",
      "le meilleur modele est : ['C(VehAge_class)', 'BonusMalus_capped', 'C(DrivAge_class)', 'LogDensity', 'C(VehBrand_class)', 'VehPower', 'C(Region_class)']\n"
     ]
    }
   ],
   "source": [
    "#Sélectionner les meilleures variables \n",
    "candidat = [\"C(Area)\", \"VehPower\",\"LogDensity\", \"C(DrivAge_class)\", \"C(VehAge_class)\",\n",
    "            \"C(VehBrand_class)\", \"Area\", \"C(Region_class)\", \"BonusMalus_capped\"]\n",
    "\n",
    "best_var = stepwise_reg(X_train, candidat)"
   ]
  },
  {
   "cell_type": "code",
   "execution_count": 28,
   "metadata": {},
   "outputs": [],
   "source": [
    "#Utiliser les meilleures variables pour construire un nouveau modèle. \n",
    "model = ' + '.join(best_var)\n",
    "\n",
    "formula = \"\"\"ClaimNb ~ \"\"\" + model\n",
    "response_train, predictors_train  = dmatrices(formula, X_train, return_type='dataframe')\n",
    "response_test, predictors_test = dmatrices(formula, X_test, return_type='dataframe')\n",
    "\n",
    "GLM_step_wise = sm.GLM(response_train, predictors_train, exposure=np.asarray(X_train['Exposure']),\n",
    "                                    family=sm.families.Poisson(sm.genmod.families.links.log())).fit()"
   ]
  },
  {
   "cell_type": "code",
   "execution_count": 31,
   "metadata": {},
   "outputs": [
    {
     "name": "stdout",
     "output_type": "stream",
     "text": [
      "                 Generalized Linear Model Regression Results                  \n",
      "==============================================================================\n",
      "Dep. Variable:                ClaimNb   No. Observations:               542392\n",
      "Model:                            GLM   Df Residuals:                   542375\n",
      "Model Family:                 Poisson   Df Model:                           16\n",
      "Link Function:                    log   Scale:                          1.0000\n",
      "Method:                          IRLS   Log-Likelihood:            -1.1308e+05\n",
      "Date:                Wed, 05 Oct 2022   Deviance:                   1.7065e+05\n",
      "Time:                        22:16:55   Pearson chi2:                 1.22e+06\n",
      "No. Iterations:                     7                                         \n",
      "Covariance Type:            nonrobust                                         \n",
      "===================================================================================================\n",
      "                                      coef    std err          z      P>|z|      [0.025      0.975]\n",
      "---------------------------------------------------------------------------------------------------\n",
      "Intercept                          -2.7026      0.069    -39.010      0.000      -2.838      -2.567\n",
      "C(VehAge_class)[T.VehAge_1]        -1.1721      0.019    -62.537      0.000      -1.209      -1.135\n",
      "C(VehAge_class)[T.VehAge_2]        -1.1675      0.020    -58.854      0.000      -1.206      -1.129\n",
      "C(VehAge_class)[T.VehAge_3]        -1.5206      0.031    -48.781      0.000      -1.582      -1.460\n",
      "C(DrivAge_class)[T.DrivAge_0]      -0.2741      0.059     -4.653      0.000      -0.390      -0.159\n",
      "C(DrivAge_class)[T.DrivAge_1]      -0.4274      0.055     -7.710      0.000      -0.536      -0.319\n",
      "C(DrivAge_class)[T.DrivAge_2]      -0.1076      0.054     -1.984      0.047      -0.214      -0.001\n",
      "C(DrivAge_class)[T.DrivAge_3]      -0.0974      0.054     -1.791      0.073      -0.204       0.009\n",
      "C(DrivAge_class)[T.DrivAge_4]       0.0058      0.058      0.100      0.920      -0.108       0.120\n",
      "C(VehBrand_class)[T.VehBrand_2]     0.0288      0.016      1.778      0.075      -0.003       0.061\n",
      "C(VehBrand_class)[T.VehBrand_3]     0.0908      0.017      5.411      0.000       0.058       0.124\n",
      "C(Region_class)[T.C2]               0.0421      0.022      1.948      0.051      -0.000       0.084\n",
      "C(Region_class)[T.C3]               0.0209      0.022      0.959      0.338      -0.022       0.064\n",
      "C(Region_class)[T.C4]              -0.0168      0.020     -0.831      0.406      -0.056       0.023\n",
      "BonusMalus_capped                   0.0227      0.000     60.722      0.000       0.022       0.023\n",
      "LogDensity                          0.0342      0.003      9.830      0.000       0.027       0.041\n",
      "VehPower                            0.0102      0.003      3.496      0.000       0.004       0.016\n",
      "===================================================================================================\n"
     ]
    }
   ],
   "source": [
    "print(GLM_step_wise.summary())"
   ]
  },
  {
   "cell_type": "code",
   "execution_count": 29,
   "metadata": {},
   "outputs": [
    {
     "name": "stdout",
     "output_type": "stream",
     "text": [
      "La déviance de Poisson pour le Modele stepwise est , Train/test: 31.4627 / 31.4383\n",
      "\n",
      "\n",
      "L'aic est de: 226185.5634\n",
      "\n",
      "\n",
      "la différence test 7183.692905512151 7187.0\n",
      "la différence train 28869.000000000957 28869.0\n"
     ]
    }
   ],
   "source": [
    "data_results_test['step_wise'] = GLM_step_wise.predict(predictors_test)* X_test[\"Exposure\"]\n",
    "data_results_train['step_wise'] = GLM_step_wise.predict(predictors_train)* X_train[\"Exposure\"]\n",
    "\n",
    "PD2_function(\"La déviance de Poisson pour le Modele stepwise est \", \n",
    "             data_results_train['step_wise'], X_train[\"ClaimNb\"], \n",
    "             data_results_test['step_wise'], X_test[\"ClaimNb\"])\n",
    "\n",
    "print('\\n')\n",
    "print(\"{:s}: {:.4f}\".format(\"L'aic est de\", GLM_step_wise.aic)) \n",
    "data_aic['step_wise'] = GLM_step_wise.aic\n",
    "\n",
    "\n",
    "print('\\n')\n",
    "print('la différence test', sum(data_results_test['step_wise']), sum(X_test[\"ClaimNb\"]))\n",
    "print('la différence train', sum(data_results_train['step_wise']), sum(X_train[\"ClaimNb\"]))"
   ]
  },
  {
   "cell_type": "markdown",
   "metadata": {},
   "source": [
    "# Generalized Additive Model (GAM)"
   ]
  },
  {
   "cell_type": "markdown",
   "metadata": {},
   "source": [
    "Prenons l'exemple de l'âge du conducteur. Dans la section précédente, nous avons discrétisé cette variable mais nous pourrions faire mieux en utilisant des splines."
   ]
  },
  {
   "cell_type": "code",
   "execution_count": 32,
   "metadata": {},
   "outputs": [
    {
     "name": "stdout",
     "output_type": "stream",
     "text": [
      "                 Generalized Linear Model Regression Results                  \n",
      "==============================================================================\n",
      "Dep. Variable:                ClaimNb   No. Observations:               542392\n",
      "Model:                            GLM   Df Residuals:                   542385\n",
      "Model Family:                 Poisson   Df Model:                            6\n",
      "Link Function:                    log   Scale:                          1.0000\n",
      "Method:                          IRLS   Log-Likelihood:            -1.1696e+05\n",
      "Date:                Wed, 05 Oct 2022   Deviance:                   1.7843e+05\n",
      "Time:                        22:17:45   Pearson chi2:                 1.52e+06\n",
      "No. Iterations:                   100                                         \n",
      "Covariance Type:            nonrobust                                         \n",
      "=======================================================================================================\n",
      "                                          coef    std err          z      P>|z|      [0.025      0.975]\n",
      "-------------------------------------------------------------------------------------------------------\n",
      "Intercept                              -1.9000      0.009   -205.027      0.000      -1.918      -1.882\n",
      "cr(X_train.DrivAge_capped, df=7)[0]     0.7176      0.034     21.305      0.000       0.652       0.784\n",
      "cr(X_train.DrivAge_capped, df=7)[1]    -0.4409      0.017    -25.261      0.000      -0.475      -0.407\n",
      "cr(X_train.DrivAge_capped, df=7)[2]    -0.4390      0.014    -31.490      0.000      -0.466      -0.412\n",
      "cr(X_train.DrivAge_capped, df=7)[3]    -0.3630      0.015    -23.820      0.000      -0.393      -0.333\n",
      "cr(X_train.DrivAge_capped, df=7)[4]    -0.5316      0.018    -30.197      0.000      -0.566      -0.497\n",
      "cr(X_train.DrivAge_capped, df=7)[5]    -0.4011      0.024    -16.940      0.000      -0.448      -0.355\n",
      "cr(X_train.DrivAge_capped, df=7)[6]    -0.4420      0.052     -8.559      0.000      -0.543      -0.341\n",
      "=======================================================================================================\n"
     ]
    }
   ],
   "source": [
    "#df=11 c'est le nombre de degré de liberté, il peut etre selectionné avec une cross validation\n",
    "transformed_DrivAge = dmatrix(\"cr(X_train.DrivAge_capped, df = 7)\", \n",
    "                         {\"train\": X_train.DrivAge_capped}, \n",
    "                         return_type='dataframe')\n",
    "\n",
    "GAM_DrivAge = sm.GLM(X_train.ClaimNb, transformed_DrivAge,\n",
    "              exposure=np.asarray(X_train.Exposure),\n",
    "              family=sm.families.Poisson(sm.genmod.families.links.log())).fit()\n",
    "\n",
    "print(GAM_DrivAge.summary())"
   ]
  },
  {
   "cell_type": "code",
   "execution_count": 33,
   "metadata": {},
   "outputs": [
    {
     "data": {
      "image/png": "[encoded data removed]",
      "text/plain": [
       "<Figure size 432x288 with 1 Axes>"
      ]
     },
     "metadata": {
      "needs_background": "light"
     },
     "output_type": "display_data"
    }
   ],
   "source": [
    "Mat = X_train.groupby(X_train.DrivAge_capped).mean()\n",
    "Mat[\"freq_2\"]=Mat.ClaimNb/Mat.Exposure\n",
    "pred1 = GAM_DrivAge.predict(dmatrix(\"cr(age_grid, df = 7)\", \n",
    "                             {\"age_grid\": Mat.index}, return_type='dataframe'))\n",
    "\n",
    "# Plot the splines and error bands\n",
    "plt.scatter(Mat.index, Mat[\"freq_2\"] , facecolor='None', edgecolor='k', alpha=0.6)\n",
    "plt.plot(Mat.index, pred1, color='r', label='splines cubiques naturelles')\n",
    "plt.legend()\n",
    "plt.xlim(17,87)\n",
    "plt.ylim(0,0.4)\n",
    "plt.xlabel('DrivAge')\n",
    "plt.ylabel('freq')\n",
    "plt.show()"
   ]
  },
  {
   "cell_type": "code",
   "execution_count": 34,
   "metadata": {},
   "outputs": [
    {
     "data": {
      "image/png": "[encoded data removed]",
      "text/plain": [
       "<Figure size 432x288 with 1 Axes>"
      ]
     },
     "metadata": {
      "needs_background": "light"
     },
     "output_type": "display_data"
    }
   ],
   "source": [
    "x = Mat.index\n",
    "y = dmatrix(\"cr(x, df = 7) - 1\", {\"x\": x})\n",
    "b=np.array(GAM_DrivAge.params[1:])\n",
    "plt.title(\"splines cubiques naturelles\");\n",
    "plt.scatter(Mat.index, Mat[\"freq_2\"] , facecolor='None', edgecolor='k', alpha=0.6)\n",
    "plt.plot(Mat.index, np.exp(np.array(GAM_DrivAge.params[0]))*np.exp(y*b))\n",
    "plt.xlabel('DrivAge')\n",
    "plt.ylabel('freq')\n",
    "plt.show()"
   ]
  },
  {
   "cell_type": "markdown",
   "metadata": {},
   "source": [
    "## C'est à vous de jouer pour la variable âge de la voiture."
   ]
  },
  {
   "cell_type": "code",
   "execution_count": 35,
   "metadata": {},
   "outputs": [],
   "source": [
    "## GAM âge de la voiture\n",
    "## # A vous de jouer "
   ]
  },
  {
   "cell_type": "markdown",
   "metadata": {},
   "source": [
    "## Etape de sélection des variables avec les splines\n",
    "\n",
    "Nous allons faire la même chose que précédemment mais cette fois-ci nous allons rajouter la variable d'âge que nous avons construite avec les splines."
   ]
  },
  {
   "cell_type": "code",
   "execution_count": 36,
   "metadata": {},
   "outputs": [
    {
     "name": "stdout",
     "output_type": "stream",
     "text": [
      "l'aic de référence est : 234818.699737965\n",
      "iter: 1, candidat: C(Area), aic: 234186.58932588075\n",
      "iter: 2, candidat: VehPower, aic: 234813.33953672132\n",
      "iter: 3, candidat: LogDensity, aic: 234160.3492894956\n",
      "iter: 4, candidat: cr(DrivAge_capped, df = 7), aic: 233941.83884864667\n",
      "iter: 5, candidat: C(VehAge_class), aic: 230374.41010617875\n",
      "iter: 6, candidat: C(VehBrand_class), aic: 233992.3424474238\n",
      "iter: 7, candidat: Area, aic: 234192.54578898908\n",
      "iter: 8, candidat: C(Region_class), aic: 234394.33239946864\n",
      "iter: 9, candidat: BonusMalus_capped, aic: 231341.60679374213\n",
      "\n",
      "\n",
      "la meilleure variable est: C(VehAge_class)\n",
      "avec un aic de: 230374.41010617875\n",
      "\n",
      "\n",
      "l'aic de référence est : 230374.41010617875\n",
      "iter: 10, candidat: C(Area), aic: 229969.50230739414\n",
      "iter: 11, candidat: VehPower, aic: 230375.95170664403\n",
      "iter: 12, candidat: LogDensity, aic: 229949.82087873266\n",
      "iter: 13, candidat: cr(DrivAge_capped, df = 7), aic: 229422.04559378853\n",
      "iter: 14, candidat: C(VehBrand_class), aic: 230255.61897638507\n",
      "iter: 15, candidat: Area, aic: 229973.83164166586\n",
      "iter: 16, candidat: C(Region_class), aic: 230206.2057621364\n",
      "iter: 17, candidat: BonusMalus_capped, aic: 226851.23600975395\n",
      "\n",
      "\n",
      "la meilleure variable est: BonusMalus_capped\n",
      "avec un aic de: 226851.23600975395\n",
      "\n",
      "\n",
      "l'aic de référence est : 226851.23600975395\n",
      "iter: 18, candidat: C(Area), aic: 226705.65121979787\n",
      "iter: 19, candidat: VehPower, aic: 226827.42310259768\n",
      "iter: 20, candidat: LogDensity, aic: 226694.4846227448\n",
      "iter: 21, candidat: cr(DrivAge_capped, df = 7), aic: 226135.19093745446\n",
      "iter: 22, candidat: C(VehBrand_class), aic: 226793.64173261207\n",
      "iter: 23, candidat: Area, aic: 226701.83905034006\n",
      "iter: 24, candidat: C(Region_class), aic: 226782.50594296242\n",
      "\n",
      "\n",
      "la meilleure variable est: cr(DrivAge_capped, df = 7)\n",
      "avec un aic de: 226135.19093745446\n",
      "\n",
      "\n",
      "l'aic de référence est : 226135.19093745446\n",
      "iter: 25, candidat: C(Area), aic: 225991.0798046133\n",
      "iter: 26, candidat: VehPower, aic: 226115.18140170598\n",
      "iter: 27, candidat: LogDensity, aic: 225984.05100985625\n",
      "iter: 28, candidat: C(VehBrand_class), aic: 226081.03119499257\n",
      "iter: 29, candidat: Area, aic: 225989.04394495362\n",
      "iter: 30, candidat: C(Region_class), aic: 226070.96043614432\n",
      "\n",
      "\n",
      "la meilleure variable est: LogDensity\n",
      "avec un aic de: 225984.05100985625\n",
      "\n",
      "\n",
      "l'aic de référence est : 225984.05100985625\n",
      "iter: 31, candidat: C(Area), aic: 225987.55586699583\n",
      "iter: 32, candidat: VehPower, aic: 225965.7186691221\n",
      "iter: 33, candidat: C(VehBrand_class), aic: 225947.3871894823\n",
      "iter: 34, candidat: Area, aic: 225985.57509486002\n",
      "iter: 35, candidat: C(Region_class), aic: 225970.80377717168\n",
      "\n",
      "\n",
      "la meilleure variable est: C(VehBrand_class)\n",
      "avec un aic de: 225947.3871894823\n",
      "\n",
      "\n",
      "l'aic de référence est : 225947.3871894823\n",
      "iter: 36, candidat: C(Area), aic: 225949.59402446233\n",
      "iter: 37, candidat: VehPower, aic: 225935.4674311435\n",
      "iter: 38, candidat: Area, aic: 225948.97956470994\n",
      "iter: 39, candidat: C(Region_class), aic: 225937.4888322907\n",
      "\n",
      "\n",
      "la meilleure variable est: VehPower\n",
      "avec un aic de: 225935.4674311435\n",
      "\n",
      "\n",
      "l'aic de référence est : 225935.4674311435\n",
      "iter: 40, candidat: C(Area), aic: 225936.72716992677\n",
      "iter: 41, candidat: Area, aic: 225937.00236638778\n",
      "iter: 42, candidat: C(Region_class), aic: 225926.24925624285\n",
      "\n",
      "\n",
      "la meilleure variable est: C(Region_class)\n",
      "avec un aic de: 225926.24925624285\n",
      "\n",
      "\n",
      "l'aic de référence est : 225926.24925624285\n",
      "iter: 43, candidat: C(Area), aic: 225928.40744363947\n",
      "iter: 44, candidat: Area, aic: 225927.9610360918\n",
      "breakkkkkkkkk\n",
      "le meilleur modele est : ['C(VehAge_class)', 'BonusMalus_capped', 'cr(DrivAge_capped, df = 7)', 'LogDensity', 'C(VehBrand_class)', 'VehPower', 'C(Region_class)']\n"
     ]
    }
   ],
   "source": [
    "#Sélectionner les meilleures variables \n",
    "candidat_spline = [\"C(Area)\", \"VehPower\",\"LogDensity\", \"cr(DrivAge_capped, df = 7)\", \"C(VehAge_class)\",\n",
    "            \"C(VehBrand_class)\", \"Area\", \"C(Region_class)\", \"BonusMalus_capped\"]\n",
    "\n",
    "best_var_spline = stepwise_reg(X_train, candidat_spline)"
   ]
  },
  {
   "cell_type": "code",
   "execution_count": 37,
   "metadata": {},
   "outputs": [
    {
     "name": "stdout",
     "output_type": "stream",
     "text": [
      "                 Generalized Linear Model Regression Results                  \n",
      "==============================================================================\n",
      "Dep. Variable:                ClaimNb   No. Observations:               542392\n",
      "Model:                            GLM   Df Residuals:                   542374\n",
      "Model Family:                 Poisson   Df Model:                           17\n",
      "Link Function:                    log   Scale:                          1.0000\n",
      "Method:                          IRLS   Log-Likelihood:            -1.1295e+05\n",
      "Date:                Wed, 05 Oct 2022   Deviance:                   1.7039e+05\n",
      "Time:                        22:20:42   Pearson chi2:                 1.22e+06\n",
      "No. Iterations:                     7                                         \n",
      "Covariance Type:            nonrobust                                         \n",
      "===================================================================================================\n",
      "                                      coef    std err          z      P>|z|      [0.025      0.975]\n",
      "---------------------------------------------------------------------------------------------------\n",
      "Intercept                          -2.4747      0.042    -59.467      0.000      -2.556      -2.393\n",
      "C(VehAge_class)[T.VehAge_1]        -1.1712      0.019    -62.491      0.000      -1.208      -1.134\n",
      "C(VehAge_class)[T.VehAge_2]        -1.1688      0.020    -58.902      0.000      -1.208      -1.130\n",
      "C(VehAge_class)[T.VehAge_3]        -1.5247      0.031    -48.903      0.000      -1.586      -1.464\n",
      "C(VehBrand_class)[T.VehBrand_2]     0.0302      0.016      1.863      0.062      -0.002       0.062\n",
      "C(VehBrand_class)[T.VehBrand_3]     0.0945      0.017      5.624      0.000       0.062       0.127\n",
      "C(Region_class)[T.C2]               0.0415      0.022      1.920      0.055      -0.001       0.084\n",
      "C(Region_class)[T.C3]               0.0198      0.022      0.904      0.366      -0.023       0.063\n",
      "C(Region_class)[T.C4]              -0.0189      0.020     -0.936      0.349      -0.059       0.021\n",
      "BonusMalus_capped                   0.0229      0.000     60.238      0.000       0.022       0.024\n",
      "cr(DrivAge_capped, df=7)[0]        -0.2060      0.039     -5.270      0.000      -0.283      -0.129\n",
      "cr(DrivAge_capped, df=7)[1]        -0.7462      0.019    -38.357      0.000      -0.784      -0.708\n",
      "cr(DrivAge_capped, df=7)[2]        -0.3958      0.015    -26.353      0.000      -0.425      -0.366\n",
      "cr(DrivAge_capped, df=7)[3]        -0.2634      0.016    -16.261      0.000      -0.295      -0.232\n",
      "cr(DrivAge_capped, df=7)[4]        -0.4200      0.019    -22.702      0.000      -0.456      -0.384\n",
      "cr(DrivAge_capped, df=7)[5]        -0.2350      0.024     -9.673      0.000      -0.283      -0.187\n",
      "cr(DrivAge_capped, df=7)[6]        -0.2083      0.052     -3.988      0.000      -0.311      -0.106\n",
      "LogDensity                          0.0347      0.003      9.973      0.000       0.028       0.042\n",
      "VehPower                            0.0107      0.003      3.653      0.000       0.005       0.016\n",
      "===================================================================================================\n"
     ]
    }
   ],
   "source": [
    "#Utiliser les meilleures variables pour construire un nouveau modèle. \n",
    "var_spline = ' + '.join(best_var_spline)\n",
    "\n",
    "formula = \"\"\"ClaimNb ~ \"\"\" + var_spline\n",
    "response_train, predictors_train  = dmatrices(formula, X_train, return_type='dataframe')\n",
    "response_test, predictors_test = dmatrices(formula, X_test, return_type='dataframe')\n",
    "\n",
    "GLM_step_wise_spline = sm.GLM(response_train, predictors_train, exposure=np.asarray(X_train['Exposure']),\n",
    "                                    family=sm.families.Poisson(sm.genmod.families.links.log())).fit()\n",
    "\n",
    "print(GLM_step_wise_spline.summary())"
   ]
  },
  {
   "cell_type": "code",
   "execution_count": 38,
   "metadata": {},
   "outputs": [
    {
     "name": "stdout",
     "output_type": "stream",
     "text": [
      "La déviance de Poisson pour le Modele stepwise avec spline est , Train/test: 31.4145 / 31.4088\n",
      "\n",
      "\n",
      "L'aic est de: 225926.2493\n",
      "\n",
      "\n",
      "la différence test 7181.38480454743 7187.0\n",
      "la différence train 28868.999999999214 28869.0\n"
     ]
    }
   ],
   "source": [
    "data_results_test['step_wise_spline'] = GLM_step_wise_spline.predict(predictors_test)* X_test[\"Exposure\"]\n",
    "data_results_train['step_wise_spline'] = GLM_step_wise_spline.predict(predictors_train)* X_train[\"Exposure\"]\n",
    "\n",
    "PD2_function(\"La déviance de Poisson pour le Modele stepwise avec spline est \", \n",
    "             data_results_train['step_wise_spline'], X_train[\"ClaimNb\"], \n",
    "             data_results_test['step_wise_spline'], X_test[\"ClaimNb\"])\n",
    "\n",
    "print('\\n')\n",
    "print(\"{:s}: {:.4f}\".format(\"L'aic est de\", GLM_step_wise_spline.aic)) \n",
    "data_aic['step_wise_spline'] = GLM_step_wise_spline.aic\n",
    "\n",
    "print('\\n')\n",
    "print('la différence test', sum(data_results_test['step_wise_spline']), sum(X_test[\"ClaimNb\"]))\n",
    "print('la différence train', sum(data_results_train['step_wise_spline']), sum(X_train[\"ClaimNb\"]))"
   ]
  },
  {
   "cell_type": "markdown",
   "metadata": {},
   "source": [
    "# Résumé"
   ]
  },
  {
   "cell_type": "code",
   "execution_count": 39,
   "metadata": {},
   "outputs": [
    {
     "name": "stdout",
     "output_type": "stream",
     "text": [
      "Homogene\n",
      "- Pour le Modele Homogene :\n",
      "La déviance de Poisson est , Train/test: 33.0603 / 32.9031\n",
      "- l'aic est de 234818.699737965\n",
      "- la différence test 7207.98288068923 7187.0\n",
      "- la différence train 28868.99999996791 28869.0\n",
      "\n",
      "\n",
      "divers\n",
      "- Pour le Modele divers :\n",
      "La déviance de Poisson est , Train/test: 32.0431 / 32.0145\n",
      "- l'aic est de 229331.67296445335\n",
      "- la différence test 7183.480736516782 7187.0\n",
      "- la différence train 28868.99999999959 28869.0\n",
      "\n",
      "\n",
      "step_wise\n",
      "- Pour le Modele step_wise :\n",
      "La déviance de Poisson est , Train/test: 31.4627 / 31.4383\n",
      "- l'aic est de 226185.56335111434\n",
      "- la différence test 7183.692905512151 7187.0\n",
      "- la différence train 28869.000000000957 28869.0\n",
      "\n",
      "\n",
      "step_wise_spline\n",
      "- Pour le Modele step_wise_spline :\n",
      "La déviance de Poisson est , Train/test: 31.4145 / 31.4088\n",
      "- l'aic est de 225926.24925624285\n",
      "- la différence test 7181.38480454743 7187.0\n",
      "- la différence train 28868.999999999214 28869.0\n",
      "\n",
      "\n"
     ]
    }
   ],
   "source": [
    "for i in data_results_test.columns:\n",
    "    print(i)\n",
    "    print(\"- Pour le Modele \"+str(i)+\" :\")\n",
    "    PD2_function(\"La déviance de Poisson est \", \n",
    "             data_results_train[i], X_train[\"ClaimNb\"], \n",
    "             data_results_test[i], X_test[\"ClaimNb\"])\n",
    "    \n",
    "    print(\"- l'aic est de \" +str(data_aic[i]))\n",
    "    print('- la différence test', sum(data_results_test[i]), sum(X_test[\"ClaimNb\"]))\n",
    "    print('- la différence train', sum(data_results_train[i]), sum(X_train[\"ClaimNb\"]))\n",
    "    print('\\n')"
   ]
  },
  {
   "cell_type": "code",
   "execution_count": null,
   "metadata": {},
   "outputs": [],
   "source": []
  }
 ],
 "metadata": {
  "kernelspec": {
   "display_name": "Python 3",
   "language": "python",
   "name": "python3"
  },
  "language_info": {
   "codemirror_mode": {
    "name": "ipython",
    "version": 3
   },
   "file_extension": ".py",
   "mimetype": "text/x-python",
   "name": "python",
   "nbconvert_exporter": "python",
   "pygments_lexer": "ipython3",
   "version": "3.8.5"
  }
 },
 "nbformat": 4,
 "nbformat_minor": 4
}
